{
 "cells": [
  {
   "cell_type": "code",
   "execution_count": 38,
   "metadata": {},
   "outputs": [],
   "source": [
    "\"\"\"\n",
    "Authors:\n",
    "    Jhonatan Guilherme de Oliveira Cunha (2135590)\n",
    "    Jessé Pires Barbato Rocha            (2149389)\n",
    "\"\"\"\n",
    "\n",
    "\n",
    "import itertools\n",
    "import numpy as np\n",
    "import pandas as pd\n",
    "import matplotlib.pyplot as plt\n",
    "from sklearn.preprocessing import StandardScaler\n",
    "from sklearn.metrics import ConfusionMatrixDisplay\n",
    "\n",
    "# SVM\n",
    "from utils.do_cv_svm import do_cv_svm\n",
    "\n",
    "# K-NN\n",
    "from utils.do_cv_knn import do_cv_knn\n",
    "\n",
    "# Random Forest\n",
    "from utils.do_cv_random_forest import do_cv_random_forest\n",
    "\n",
    "# Decision Tree\n",
    "from utils.do_cv_decision_tree import do_cv_decision_tree\n",
    "\n",
    "# MLP\n",
    "from utils.do_cv_mlp import do_cv_mlp\n",
    "\n",
    "# Utils\n",
    "from utils.generateDatasetWithClass import generateDatasetWithClass"
   ]
  },
  {
   "cell_type": "code",
   "execution_count": 22,
   "metadata": {},
   "outputs": [],
   "source": [
    "def calcular_estatisticas(resultados):\n",
    "    return np.mean(resultados), np.std(resultados), np.min(resultados), np.max(resultados)\n",
    "\n",
    "def imprimir_estatisticas(resultados):\n",
    "    media, desvio, mini, maxi = calcular_estatisticas(resultados)\n",
    "    print(\"Resultados: %.2f +- %.2f, min: %.2f, max: %.2f\" % (media, desvio, mini, maxi))"
   ]
  },
  {
   "cell_type": "markdown",
   "metadata": {},
   "source": [
    "### Carregando dataset de caracteristicas oBIFS"
   ]
  },
  {
   "cell_type": "code",
   "execution_count": 3,
   "metadata": {},
   "outputs": [
    {
     "data": {
      "text/html": [
       "<div>\n",
       "<style scoped>\n",
       "    .dataframe tbody tr th:only-of-type {\n",
       "        vertical-align: middle;\n",
       "    }\n",
       "\n",
       "    .dataframe tbody tr th {\n",
       "        vertical-align: top;\n",
       "    }\n",
       "\n",
       "    .dataframe thead th {\n",
       "        text-align: right;\n",
       "    }\n",
       "</style>\n",
       "<table border=\"1\" class=\"dataframe\">\n",
       "  <thead>\n",
       "    <tr style=\"text-align: right;\">\n",
       "      <th></th>\n",
       "      <th>0</th>\n",
       "      <th>1</th>\n",
       "      <th>2</th>\n",
       "      <th>3</th>\n",
       "      <th>4</th>\n",
       "      <th>5</th>\n",
       "      <th>6</th>\n",
       "      <th>7</th>\n",
       "      <th>8</th>\n",
       "      <th>9</th>\n",
       "      <th>...</th>\n",
       "      <th>475</th>\n",
       "      <th>476</th>\n",
       "      <th>477</th>\n",
       "      <th>478</th>\n",
       "      <th>479</th>\n",
       "      <th>480</th>\n",
       "      <th>481</th>\n",
       "      <th>482</th>\n",
       "      <th>483</th>\n",
       "      <th>484</th>\n",
       "    </tr>\n",
       "  </thead>\n",
       "  <tbody>\n",
       "    <tr>\n",
       "      <th>0</th>\n",
       "      <td>2132.0</td>\n",
       "      <td>521.0</td>\n",
       "      <td>90.0</td>\n",
       "      <td>5.0</td>\n",
       "      <td>42.0</td>\n",
       "      <td>18.0</td>\n",
       "      <td>48.0</td>\n",
       "      <td>680.0</td>\n",
       "      <td>98.0</td>\n",
       "      <td>203.0</td>\n",
       "      <td>...</td>\n",
       "      <td>225.0</td>\n",
       "      <td>15.0</td>\n",
       "      <td>4.0</td>\n",
       "      <td>12.0</td>\n",
       "      <td>23.0</td>\n",
       "      <td>56.0</td>\n",
       "      <td>2.0</td>\n",
       "      <td>20.0</td>\n",
       "      <td>57.0</td>\n",
       "      <td>1.0</td>\n",
       "    </tr>\n",
       "    <tr>\n",
       "      <th>1</th>\n",
       "      <td>4075.0</td>\n",
       "      <td>1179.0</td>\n",
       "      <td>103.0</td>\n",
       "      <td>16.0</td>\n",
       "      <td>8.0</td>\n",
       "      <td>17.0</td>\n",
       "      <td>121.0</td>\n",
       "      <td>912.0</td>\n",
       "      <td>157.0</td>\n",
       "      <td>192.0</td>\n",
       "      <td>...</td>\n",
       "      <td>331.0</td>\n",
       "      <td>63.0</td>\n",
       "      <td>11.0</td>\n",
       "      <td>15.0</td>\n",
       "      <td>74.0</td>\n",
       "      <td>71.0</td>\n",
       "      <td>17.0</td>\n",
       "      <td>66.0</td>\n",
       "      <td>157.0</td>\n",
       "      <td>1.0</td>\n",
       "    </tr>\n",
       "    <tr>\n",
       "      <th>2</th>\n",
       "      <td>4280.0</td>\n",
       "      <td>1051.0</td>\n",
       "      <td>101.0</td>\n",
       "      <td>4.0</td>\n",
       "      <td>1.0</td>\n",
       "      <td>2.0</td>\n",
       "      <td>65.0</td>\n",
       "      <td>994.0</td>\n",
       "      <td>164.0</td>\n",
       "      <td>168.0</td>\n",
       "      <td>...</td>\n",
       "      <td>422.0</td>\n",
       "      <td>72.0</td>\n",
       "      <td>12.0</td>\n",
       "      <td>16.0</td>\n",
       "      <td>55.0</td>\n",
       "      <td>108.0</td>\n",
       "      <td>10.0</td>\n",
       "      <td>29.0</td>\n",
       "      <td>118.0</td>\n",
       "      <td>1.0</td>\n",
       "    </tr>\n",
       "    <tr>\n",
       "      <th>3</th>\n",
       "      <td>3320.0</td>\n",
       "      <td>928.0</td>\n",
       "      <td>54.0</td>\n",
       "      <td>6.0</td>\n",
       "      <td>11.0</td>\n",
       "      <td>18.0</td>\n",
       "      <td>69.0</td>\n",
       "      <td>786.0</td>\n",
       "      <td>122.0</td>\n",
       "      <td>109.0</td>\n",
       "      <td>...</td>\n",
       "      <td>338.0</td>\n",
       "      <td>36.0</td>\n",
       "      <td>8.0</td>\n",
       "      <td>7.0</td>\n",
       "      <td>52.0</td>\n",
       "      <td>77.0</td>\n",
       "      <td>0.0</td>\n",
       "      <td>29.0</td>\n",
       "      <td>79.0</td>\n",
       "      <td>1.0</td>\n",
       "    </tr>\n",
       "    <tr>\n",
       "      <th>4</th>\n",
       "      <td>4373.0</td>\n",
       "      <td>934.0</td>\n",
       "      <td>73.0</td>\n",
       "      <td>1.0</td>\n",
       "      <td>30.0</td>\n",
       "      <td>17.0</td>\n",
       "      <td>93.0</td>\n",
       "      <td>1273.0</td>\n",
       "      <td>191.0</td>\n",
       "      <td>235.0</td>\n",
       "      <td>...</td>\n",
       "      <td>398.0</td>\n",
       "      <td>59.0</td>\n",
       "      <td>10.0</td>\n",
       "      <td>19.0</td>\n",
       "      <td>74.0</td>\n",
       "      <td>68.0</td>\n",
       "      <td>10.0</td>\n",
       "      <td>49.0</td>\n",
       "      <td>135.0</td>\n",
       "      <td>1.0</td>\n",
       "    </tr>\n",
       "    <tr>\n",
       "      <th>...</th>\n",
       "      <td>...</td>\n",
       "      <td>...</td>\n",
       "      <td>...</td>\n",
       "      <td>...</td>\n",
       "      <td>...</td>\n",
       "      <td>...</td>\n",
       "      <td>...</td>\n",
       "      <td>...</td>\n",
       "      <td>...</td>\n",
       "      <td>...</td>\n",
       "      <td>...</td>\n",
       "      <td>...</td>\n",
       "      <td>...</td>\n",
       "      <td>...</td>\n",
       "      <td>...</td>\n",
       "      <td>...</td>\n",
       "      <td>...</td>\n",
       "      <td>...</td>\n",
       "      <td>...</td>\n",
       "      <td>...</td>\n",
       "      <td>...</td>\n",
       "    </tr>\n",
       "    <tr>\n",
       "      <th>395</th>\n",
       "      <td>2972.0</td>\n",
       "      <td>523.0</td>\n",
       "      <td>22.0</td>\n",
       "      <td>7.0</td>\n",
       "      <td>1.0</td>\n",
       "      <td>7.0</td>\n",
       "      <td>45.0</td>\n",
       "      <td>451.0</td>\n",
       "      <td>57.0</td>\n",
       "      <td>170.0</td>\n",
       "      <td>...</td>\n",
       "      <td>272.0</td>\n",
       "      <td>28.0</td>\n",
       "      <td>1.0</td>\n",
       "      <td>14.0</td>\n",
       "      <td>46.0</td>\n",
       "      <td>53.0</td>\n",
       "      <td>4.0</td>\n",
       "      <td>45.0</td>\n",
       "      <td>120.0</td>\n",
       "      <td>0.0</td>\n",
       "    </tr>\n",
       "    <tr>\n",
       "      <th>396</th>\n",
       "      <td>2234.0</td>\n",
       "      <td>473.0</td>\n",
       "      <td>30.0</td>\n",
       "      <td>1.0</td>\n",
       "      <td>4.0</td>\n",
       "      <td>2.0</td>\n",
       "      <td>50.0</td>\n",
       "      <td>501.0</td>\n",
       "      <td>106.0</td>\n",
       "      <td>143.0</td>\n",
       "      <td>...</td>\n",
       "      <td>233.0</td>\n",
       "      <td>25.0</td>\n",
       "      <td>5.0</td>\n",
       "      <td>27.0</td>\n",
       "      <td>49.0</td>\n",
       "      <td>53.0</td>\n",
       "      <td>5.0</td>\n",
       "      <td>33.0</td>\n",
       "      <td>102.0</td>\n",
       "      <td>0.0</td>\n",
       "    </tr>\n",
       "    <tr>\n",
       "      <th>397</th>\n",
       "      <td>3001.0</td>\n",
       "      <td>411.0</td>\n",
       "      <td>51.0</td>\n",
       "      <td>6.0</td>\n",
       "      <td>50.0</td>\n",
       "      <td>10.0</td>\n",
       "      <td>51.0</td>\n",
       "      <td>432.0</td>\n",
       "      <td>66.0</td>\n",
       "      <td>167.0</td>\n",
       "      <td>...</td>\n",
       "      <td>306.0</td>\n",
       "      <td>39.0</td>\n",
       "      <td>7.0</td>\n",
       "      <td>15.0</td>\n",
       "      <td>61.0</td>\n",
       "      <td>89.0</td>\n",
       "      <td>3.0</td>\n",
       "      <td>61.0</td>\n",
       "      <td>148.0</td>\n",
       "      <td>0.0</td>\n",
       "    </tr>\n",
       "    <tr>\n",
       "      <th>398</th>\n",
       "      <td>1972.0</td>\n",
       "      <td>383.0</td>\n",
       "      <td>21.0</td>\n",
       "      <td>2.0</td>\n",
       "      <td>15.0</td>\n",
       "      <td>5.0</td>\n",
       "      <td>26.0</td>\n",
       "      <td>331.0</td>\n",
       "      <td>59.0</td>\n",
       "      <td>107.0</td>\n",
       "      <td>...</td>\n",
       "      <td>225.0</td>\n",
       "      <td>33.0</td>\n",
       "      <td>1.0</td>\n",
       "      <td>4.0</td>\n",
       "      <td>20.0</td>\n",
       "      <td>22.0</td>\n",
       "      <td>3.0</td>\n",
       "      <td>31.0</td>\n",
       "      <td>49.0</td>\n",
       "      <td>0.0</td>\n",
       "    </tr>\n",
       "    <tr>\n",
       "      <th>399</th>\n",
       "      <td>2158.0</td>\n",
       "      <td>324.0</td>\n",
       "      <td>16.0</td>\n",
       "      <td>28.0</td>\n",
       "      <td>2.0</td>\n",
       "      <td>5.0</td>\n",
       "      <td>48.0</td>\n",
       "      <td>497.0</td>\n",
       "      <td>56.0</td>\n",
       "      <td>167.0</td>\n",
       "      <td>...</td>\n",
       "      <td>274.0</td>\n",
       "      <td>29.0</td>\n",
       "      <td>2.0</td>\n",
       "      <td>21.0</td>\n",
       "      <td>42.0</td>\n",
       "      <td>54.0</td>\n",
       "      <td>9.0</td>\n",
       "      <td>33.0</td>\n",
       "      <td>54.0</td>\n",
       "      <td>0.0</td>\n",
       "    </tr>\n",
       "  </tbody>\n",
       "</table>\n",
       "<p>400 rows × 485 columns</p>\n",
       "</div>"
      ],
      "text/plain": [
       "        0       1      2     3     4     5      6       7      8      9    \\\n",
       "0    2132.0   521.0   90.0   5.0  42.0  18.0   48.0   680.0   98.0  203.0   \n",
       "1    4075.0  1179.0  103.0  16.0   8.0  17.0  121.0   912.0  157.0  192.0   \n",
       "2    4280.0  1051.0  101.0   4.0   1.0   2.0   65.0   994.0  164.0  168.0   \n",
       "3    3320.0   928.0   54.0   6.0  11.0  18.0   69.0   786.0  122.0  109.0   \n",
       "4    4373.0   934.0   73.0   1.0  30.0  17.0   93.0  1273.0  191.0  235.0   \n",
       "..      ...     ...    ...   ...   ...   ...    ...     ...    ...    ...   \n",
       "395  2972.0   523.0   22.0   7.0   1.0   7.0   45.0   451.0   57.0  170.0   \n",
       "396  2234.0   473.0   30.0   1.0   4.0   2.0   50.0   501.0  106.0  143.0   \n",
       "397  3001.0   411.0   51.0   6.0  50.0  10.0   51.0   432.0   66.0  167.0   \n",
       "398  1972.0   383.0   21.0   2.0  15.0   5.0   26.0   331.0   59.0  107.0   \n",
       "399  2158.0   324.0   16.0  28.0   2.0   5.0   48.0   497.0   56.0  167.0   \n",
       "\n",
       "     ...    475   476   477   478   479    480   481   482    483  484  \n",
       "0    ...  225.0  15.0   4.0  12.0  23.0   56.0   2.0  20.0   57.0  1.0  \n",
       "1    ...  331.0  63.0  11.0  15.0  74.0   71.0  17.0  66.0  157.0  1.0  \n",
       "2    ...  422.0  72.0  12.0  16.0  55.0  108.0  10.0  29.0  118.0  1.0  \n",
       "3    ...  338.0  36.0   8.0   7.0  52.0   77.0   0.0  29.0   79.0  1.0  \n",
       "4    ...  398.0  59.0  10.0  19.0  74.0   68.0  10.0  49.0  135.0  1.0  \n",
       "..   ...    ...   ...   ...   ...   ...    ...   ...   ...    ...  ...  \n",
       "395  ...  272.0  28.0   1.0  14.0  46.0   53.0   4.0  45.0  120.0  0.0  \n",
       "396  ...  233.0  25.0   5.0  27.0  49.0   53.0   5.0  33.0  102.0  0.0  \n",
       "397  ...  306.0  39.0   7.0  15.0  61.0   89.0   3.0  61.0  148.0  0.0  \n",
       "398  ...  225.0  33.0   1.0   4.0  20.0   22.0   3.0  31.0   49.0  0.0  \n",
       "399  ...  274.0  29.0   2.0  21.0  42.0   54.0   9.0  33.0   54.0  0.0  \n",
       "\n",
       "[400 rows x 485 columns]"
      ]
     },
     "execution_count": 3,
     "metadata": {},
     "output_type": "execute_result"
    }
   ],
   "source": [
    "dataset_obifs = pd.read_csv('gender_dataset_obifs.csv', header=None)\n",
    "dataset_obifs_len = len(dataset_obifs.columns) - 1\n",
    "\n",
    "dataset_obifs"
   ]
  },
  {
   "cell_type": "code",
   "execution_count": 4,
   "metadata": {},
   "outputs": [
    {
     "data": {
      "text/plain": [
       "array(['0.0', '1.0'], dtype='<U32')"
      ]
     },
     "execution_count": 4,
     "metadata": {},
     "output_type": "execute_result"
    }
   ],
   "source": [
    "y_obifs = dataset_obifs[dataset_obifs_len].values.ravel()\n",
    "X_obifs = dataset_obifs.drop([dataset_obifs_len], axis=1).values\n",
    "X_obifs_columns = dataset_obifs.drop([dataset_obifs_len], axis=1).columns\n",
    "y_obifs_classes = np.unique(y_obifs).astype(str)\n",
    "\n",
    "y_obifs_classes"
   ]
  },
  {
   "cell_type": "markdown",
   "metadata": {},
   "source": [
    "### Carregando dataset de caracteristicas BSIF"
   ]
  },
  {
   "cell_type": "code",
   "execution_count": 5,
   "metadata": {},
   "outputs": [
    {
     "data": {
      "text/html": [
       "<div>\n",
       "<style scoped>\n",
       "    .dataframe tbody tr th:only-of-type {\n",
       "        vertical-align: middle;\n",
       "    }\n",
       "\n",
       "    .dataframe tbody tr th {\n",
       "        vertical-align: top;\n",
       "    }\n",
       "\n",
       "    .dataframe thead th {\n",
       "        text-align: right;\n",
       "    }\n",
       "</style>\n",
       "<table border=\"1\" class=\"dataframe\">\n",
       "  <thead>\n",
       "    <tr style=\"text-align: right;\">\n",
       "      <th></th>\n",
       "      <th>0</th>\n",
       "      <th>1</th>\n",
       "      <th>2</th>\n",
       "      <th>3</th>\n",
       "      <th>4</th>\n",
       "      <th>5</th>\n",
       "      <th>6</th>\n",
       "      <th>7</th>\n",
       "      <th>8</th>\n",
       "      <th>9</th>\n",
       "      <th>...</th>\n",
       "      <th>247</th>\n",
       "      <th>248</th>\n",
       "      <th>249</th>\n",
       "      <th>250</th>\n",
       "      <th>251</th>\n",
       "      <th>252</th>\n",
       "      <th>253</th>\n",
       "      <th>254</th>\n",
       "      <th>255</th>\n",
       "      <th>256</th>\n",
       "    </tr>\n",
       "  </thead>\n",
       "  <tbody>\n",
       "    <tr>\n",
       "      <th>0</th>\n",
       "      <td>0.001981</td>\n",
       "      <td>0.001687</td>\n",
       "      <td>0.003587</td>\n",
       "      <td>0.000611</td>\n",
       "      <td>0.001520</td>\n",
       "      <td>0.003356</td>\n",
       "      <td>0.001153</td>\n",
       "      <td>0.000339</td>\n",
       "      <td>0.000416</td>\n",
       "      <td>0.000751</td>\n",
       "      <td>...</td>\n",
       "      <td>0.000597</td>\n",
       "      <td>0.000543</td>\n",
       "      <td>0.001759</td>\n",
       "      <td>0.000398</td>\n",
       "      <td>0.000502</td>\n",
       "      <td>0.001235</td>\n",
       "      <td>0.002741</td>\n",
       "      <td>0.000366</td>\n",
       "      <td>0.001312</td>\n",
       "      <td>1.0</td>\n",
       "    </tr>\n",
       "    <tr>\n",
       "      <th>1</th>\n",
       "      <td>0.003424</td>\n",
       "      <td>0.002628</td>\n",
       "      <td>0.004432</td>\n",
       "      <td>0.000954</td>\n",
       "      <td>0.002610</td>\n",
       "      <td>0.005011</td>\n",
       "      <td>0.001678</td>\n",
       "      <td>0.000814</td>\n",
       "      <td>0.001063</td>\n",
       "      <td>0.001176</td>\n",
       "      <td>...</td>\n",
       "      <td>0.001805</td>\n",
       "      <td>0.001108</td>\n",
       "      <td>0.002840</td>\n",
       "      <td>0.000579</td>\n",
       "      <td>0.001013</td>\n",
       "      <td>0.002474</td>\n",
       "      <td>0.003582</td>\n",
       "      <td>0.000905</td>\n",
       "      <td>0.002528</td>\n",
       "      <td>1.0</td>\n",
       "    </tr>\n",
       "    <tr>\n",
       "      <th>2</th>\n",
       "      <td>0.002677</td>\n",
       "      <td>0.003333</td>\n",
       "      <td>0.004821</td>\n",
       "      <td>0.000606</td>\n",
       "      <td>0.002053</td>\n",
       "      <td>0.004839</td>\n",
       "      <td>0.001606</td>\n",
       "      <td>0.000850</td>\n",
       "      <td>0.000846</td>\n",
       "      <td>0.000841</td>\n",
       "      <td>...</td>\n",
       "      <td>0.001411</td>\n",
       "      <td>0.000977</td>\n",
       "      <td>0.002777</td>\n",
       "      <td>0.000669</td>\n",
       "      <td>0.000805</td>\n",
       "      <td>0.002221</td>\n",
       "      <td>0.003460</td>\n",
       "      <td>0.000972</td>\n",
       "      <td>0.002573</td>\n",
       "      <td>1.0</td>\n",
       "    </tr>\n",
       "    <tr>\n",
       "      <th>3</th>\n",
       "      <td>0.002117</td>\n",
       "      <td>0.002542</td>\n",
       "      <td>0.003817</td>\n",
       "      <td>0.000543</td>\n",
       "      <td>0.001755</td>\n",
       "      <td>0.004554</td>\n",
       "      <td>0.001556</td>\n",
       "      <td>0.000687</td>\n",
       "      <td>0.000525</td>\n",
       "      <td>0.000678</td>\n",
       "      <td>...</td>\n",
       "      <td>0.001000</td>\n",
       "      <td>0.000859</td>\n",
       "      <td>0.002374</td>\n",
       "      <td>0.000660</td>\n",
       "      <td>0.000728</td>\n",
       "      <td>0.001728</td>\n",
       "      <td>0.002813</td>\n",
       "      <td>0.000787</td>\n",
       "      <td>0.001719</td>\n",
       "      <td>1.0</td>\n",
       "    </tr>\n",
       "    <tr>\n",
       "      <th>4</th>\n",
       "      <td>0.002858</td>\n",
       "      <td>0.002818</td>\n",
       "      <td>0.004826</td>\n",
       "      <td>0.000954</td>\n",
       "      <td>0.002298</td>\n",
       "      <td>0.005283</td>\n",
       "      <td>0.001786</td>\n",
       "      <td>0.000886</td>\n",
       "      <td>0.000850</td>\n",
       "      <td>0.001162</td>\n",
       "      <td>...</td>\n",
       "      <td>0.001199</td>\n",
       "      <td>0.001000</td>\n",
       "      <td>0.002971</td>\n",
       "      <td>0.000796</td>\n",
       "      <td>0.001067</td>\n",
       "      <td>0.002230</td>\n",
       "      <td>0.003795</td>\n",
       "      <td>0.000819</td>\n",
       "      <td>0.002311</td>\n",
       "      <td>1.0</td>\n",
       "    </tr>\n",
       "    <tr>\n",
       "      <th>...</th>\n",
       "      <td>...</td>\n",
       "      <td>...</td>\n",
       "      <td>...</td>\n",
       "      <td>...</td>\n",
       "      <td>...</td>\n",
       "      <td>...</td>\n",
       "      <td>...</td>\n",
       "      <td>...</td>\n",
       "      <td>...</td>\n",
       "      <td>...</td>\n",
       "      <td>...</td>\n",
       "      <td>...</td>\n",
       "      <td>...</td>\n",
       "      <td>...</td>\n",
       "      <td>...</td>\n",
       "      <td>...</td>\n",
       "      <td>...</td>\n",
       "      <td>...</td>\n",
       "      <td>...</td>\n",
       "      <td>...</td>\n",
       "      <td>...</td>\n",
       "    </tr>\n",
       "    <tr>\n",
       "      <th>395</th>\n",
       "      <td>0.001194</td>\n",
       "      <td>0.001687</td>\n",
       "      <td>0.002239</td>\n",
       "      <td>0.000299</td>\n",
       "      <td>0.001443</td>\n",
       "      <td>0.002913</td>\n",
       "      <td>0.000868</td>\n",
       "      <td>0.000412</td>\n",
       "      <td>0.000231</td>\n",
       "      <td>0.000597</td>\n",
       "      <td>...</td>\n",
       "      <td>0.000547</td>\n",
       "      <td>0.000461</td>\n",
       "      <td>0.001705</td>\n",
       "      <td>0.000466</td>\n",
       "      <td>0.000592</td>\n",
       "      <td>0.001095</td>\n",
       "      <td>0.001737</td>\n",
       "      <td>0.000262</td>\n",
       "      <td>0.000791</td>\n",
       "      <td>0.0</td>\n",
       "    </tr>\n",
       "    <tr>\n",
       "      <th>396</th>\n",
       "      <td>0.001248</td>\n",
       "      <td>0.001506</td>\n",
       "      <td>0.002198</td>\n",
       "      <td>0.000204</td>\n",
       "      <td>0.001642</td>\n",
       "      <td>0.003315</td>\n",
       "      <td>0.000846</td>\n",
       "      <td>0.000412</td>\n",
       "      <td>0.000294</td>\n",
       "      <td>0.000534</td>\n",
       "      <td>...</td>\n",
       "      <td>0.000701</td>\n",
       "      <td>0.000443</td>\n",
       "      <td>0.001741</td>\n",
       "      <td>0.000448</td>\n",
       "      <td>0.000588</td>\n",
       "      <td>0.001199</td>\n",
       "      <td>0.001791</td>\n",
       "      <td>0.000425</td>\n",
       "      <td>0.001719</td>\n",
       "      <td>0.0</td>\n",
       "    </tr>\n",
       "    <tr>\n",
       "      <th>397</th>\n",
       "      <td>0.001841</td>\n",
       "      <td>0.001764</td>\n",
       "      <td>0.002646</td>\n",
       "      <td>0.000326</td>\n",
       "      <td>0.001217</td>\n",
       "      <td>0.003582</td>\n",
       "      <td>0.000864</td>\n",
       "      <td>0.000403</td>\n",
       "      <td>0.000357</td>\n",
       "      <td>0.000565</td>\n",
       "      <td>...</td>\n",
       "      <td>0.000850</td>\n",
       "      <td>0.000520</td>\n",
       "      <td>0.001755</td>\n",
       "      <td>0.000416</td>\n",
       "      <td>0.000597</td>\n",
       "      <td>0.001420</td>\n",
       "      <td>0.002135</td>\n",
       "      <td>0.000425</td>\n",
       "      <td>0.001673</td>\n",
       "      <td>0.0</td>\n",
       "    </tr>\n",
       "    <tr>\n",
       "      <th>398</th>\n",
       "      <td>0.000941</td>\n",
       "      <td>0.000918</td>\n",
       "      <td>0.001565</td>\n",
       "      <td>0.000217</td>\n",
       "      <td>0.000886</td>\n",
       "      <td>0.002361</td>\n",
       "      <td>0.000633</td>\n",
       "      <td>0.000353</td>\n",
       "      <td>0.000204</td>\n",
       "      <td>0.000403</td>\n",
       "      <td>...</td>\n",
       "      <td>0.000583</td>\n",
       "      <td>0.000348</td>\n",
       "      <td>0.001393</td>\n",
       "      <td>0.000303</td>\n",
       "      <td>0.000384</td>\n",
       "      <td>0.000801</td>\n",
       "      <td>0.001615</td>\n",
       "      <td>0.000267</td>\n",
       "      <td>0.000995</td>\n",
       "      <td>0.0</td>\n",
       "    </tr>\n",
       "    <tr>\n",
       "      <th>399</th>\n",
       "      <td>0.001081</td>\n",
       "      <td>0.001063</td>\n",
       "      <td>0.001958</td>\n",
       "      <td>0.000244</td>\n",
       "      <td>0.001280</td>\n",
       "      <td>0.002786</td>\n",
       "      <td>0.000791</td>\n",
       "      <td>0.000339</td>\n",
       "      <td>0.000276</td>\n",
       "      <td>0.000384</td>\n",
       "      <td>...</td>\n",
       "      <td>0.000588</td>\n",
       "      <td>0.000267</td>\n",
       "      <td>0.001574</td>\n",
       "      <td>0.000393</td>\n",
       "      <td>0.000534</td>\n",
       "      <td>0.000972</td>\n",
       "      <td>0.001646</td>\n",
       "      <td>0.000339</td>\n",
       "      <td>0.001076</td>\n",
       "      <td>0.0</td>\n",
       "    </tr>\n",
       "  </tbody>\n",
       "</table>\n",
       "<p>400 rows × 257 columns</p>\n",
       "</div>"
      ],
      "text/plain": [
       "          0         1         2         3         4         5         6    \\\n",
       "0    0.001981  0.001687  0.003587  0.000611  0.001520  0.003356  0.001153   \n",
       "1    0.003424  0.002628  0.004432  0.000954  0.002610  0.005011  0.001678   \n",
       "2    0.002677  0.003333  0.004821  0.000606  0.002053  0.004839  0.001606   \n",
       "3    0.002117  0.002542  0.003817  0.000543  0.001755  0.004554  0.001556   \n",
       "4    0.002858  0.002818  0.004826  0.000954  0.002298  0.005283  0.001786   \n",
       "..        ...       ...       ...       ...       ...       ...       ...   \n",
       "395  0.001194  0.001687  0.002239  0.000299  0.001443  0.002913  0.000868   \n",
       "396  0.001248  0.001506  0.002198  0.000204  0.001642  0.003315  0.000846   \n",
       "397  0.001841  0.001764  0.002646  0.000326  0.001217  0.003582  0.000864   \n",
       "398  0.000941  0.000918  0.001565  0.000217  0.000886  0.002361  0.000633   \n",
       "399  0.001081  0.001063  0.001958  0.000244  0.001280  0.002786  0.000791   \n",
       "\n",
       "          7         8         9    ...       247       248       249  \\\n",
       "0    0.000339  0.000416  0.000751  ...  0.000597  0.000543  0.001759   \n",
       "1    0.000814  0.001063  0.001176  ...  0.001805  0.001108  0.002840   \n",
       "2    0.000850  0.000846  0.000841  ...  0.001411  0.000977  0.002777   \n",
       "3    0.000687  0.000525  0.000678  ...  0.001000  0.000859  0.002374   \n",
       "4    0.000886  0.000850  0.001162  ...  0.001199  0.001000  0.002971   \n",
       "..        ...       ...       ...  ...       ...       ...       ...   \n",
       "395  0.000412  0.000231  0.000597  ...  0.000547  0.000461  0.001705   \n",
       "396  0.000412  0.000294  0.000534  ...  0.000701  0.000443  0.001741   \n",
       "397  0.000403  0.000357  0.000565  ...  0.000850  0.000520  0.001755   \n",
       "398  0.000353  0.000204  0.000403  ...  0.000583  0.000348  0.001393   \n",
       "399  0.000339  0.000276  0.000384  ...  0.000588  0.000267  0.001574   \n",
       "\n",
       "          250       251       252       253       254       255  256  \n",
       "0    0.000398  0.000502  0.001235  0.002741  0.000366  0.001312  1.0  \n",
       "1    0.000579  0.001013  0.002474  0.003582  0.000905  0.002528  1.0  \n",
       "2    0.000669  0.000805  0.002221  0.003460  0.000972  0.002573  1.0  \n",
       "3    0.000660  0.000728  0.001728  0.002813  0.000787  0.001719  1.0  \n",
       "4    0.000796  0.001067  0.002230  0.003795  0.000819  0.002311  1.0  \n",
       "..        ...       ...       ...       ...       ...       ...  ...  \n",
       "395  0.000466  0.000592  0.001095  0.001737  0.000262  0.000791  0.0  \n",
       "396  0.000448  0.000588  0.001199  0.001791  0.000425  0.001719  0.0  \n",
       "397  0.000416  0.000597  0.001420  0.002135  0.000425  0.001673  0.0  \n",
       "398  0.000303  0.000384  0.000801  0.001615  0.000267  0.000995  0.0  \n",
       "399  0.000393  0.000534  0.000972  0.001646  0.000339  0.001076  0.0  \n",
       "\n",
       "[400 rows x 257 columns]"
      ]
     },
     "execution_count": 5,
     "metadata": {},
     "output_type": "execute_result"
    }
   ],
   "source": [
    "dataset_bsif = pd.read_csv('gender_dataset_bsif.csv', header=None)\n",
    "dataset_bsif_len = len(dataset_bsif.columns) - 1\n",
    "\n",
    "dataset_bsif"
   ]
  },
  {
   "cell_type": "code",
   "execution_count": 6,
   "metadata": {},
   "outputs": [
    {
     "data": {
      "text/plain": [
       "array([[0.001981, 0.001687, 0.003587, ..., 0.002741, 0.000366, 0.001312],\n",
       "       [0.003424, 0.002628, 0.004432, ..., 0.003582, 0.000905, 0.002528],\n",
       "       [0.002677, 0.003333, 0.004821, ..., 0.00346 , 0.000972, 0.002573],\n",
       "       ...,\n",
       "       [0.001841, 0.001764, 0.002646, ..., 0.002135, 0.000425, 0.001673],\n",
       "       [0.000941, 0.000918, 0.001565, ..., 0.001615, 0.000267, 0.000995],\n",
       "       [0.001081, 0.001063, 0.001958, ..., 0.001646, 0.000339, 0.001076]])"
      ]
     },
     "execution_count": 6,
     "metadata": {},
     "output_type": "execute_result"
    }
   ],
   "source": [
    "y_bsif = dataset_bsif[dataset_bsif_len].values.ravel()\n",
    "X_bsif = dataset_bsif.drop([dataset_bsif_len], axis=1).values\n",
    "X_bsif_columns = dataset_bsif.drop([dataset_bsif_len], axis=1).columns\n",
    "y_bsif_classes = np.unique(y_bsif).astype(str)\n",
    "\n",
    "X_bsif"
   ]
  },
  {
   "cell_type": "markdown",
   "metadata": {},
   "source": [
    "# Normalizando os dados extraídos com o oBIFS"
   ]
  },
  {
   "cell_type": "code",
   "execution_count": 7,
   "metadata": {},
   "outputs": [
    {
     "data": {
      "text/plain": [
       "array([[-0.22908933, -0.54746885, -0.03277022, ..., -1.48288186,\n",
       "        -1.28248433, -1.42347466],\n",
       "       [ 2.11973889,  2.11881174,  0.20423276, ...,  1.12476502,\n",
       "         1.5452822 ,  1.3619175 ],\n",
       "       [ 2.36755658,  1.60014318,  0.16777076, ..., -0.09213686,\n",
       "        -0.72922566,  0.27561455],\n",
       "       ...,\n",
       "       [ 0.82141593, -0.99319965, -0.74377915, ..., -1.30903874,\n",
       "         1.23791627,  1.1112322 ],\n",
       "       [-0.42250802, -1.1066584 , -1.2907091 , ..., -1.30903874,\n",
       "        -0.60627929, -1.64630604],\n",
       "       [-0.19765879, -1.34573219, -1.38186409, ..., -0.26597998,\n",
       "        -0.48333292, -1.50703643]])"
      ]
     },
     "execution_count": 7,
     "metadata": {},
     "output_type": "execute_result"
    }
   ],
   "source": [
    "ss_obifs = StandardScaler()\n",
    "ss_obifs.fit(X_obifs)\n",
    "X_obifs_ss = ss_obifs.transform(X_obifs)\n",
    "\n",
    "X_obifs_ss"
   ]
  },
  {
   "cell_type": "markdown",
   "metadata": {},
   "source": [
    "# Utilizando o SVM para classificação oBIFS"
   ]
  },
  {
   "cell_type": "code",
   "execution_count": 8,
   "metadata": {},
   "outputs": [
    {
     "data": {
      "application/vnd.jupyter.widget-view+json": {
       "model_id": "db07d677981d44739fc975de38c426d6",
       "version_major": 2,
       "version_minor": 0
      },
      "text/plain": [
       "Folds avaliados:   0%|          | 0/10 [00:00<?, ?it/s]"
      ]
     },
     "metadata": {},
     "output_type": "display_data"
    },
    {
     "name": "stdout",
     "output_type": "stream",
     "text": [
      "Resultados: 0.96 +- 0.03, min: 0.90, max: 1.00\n"
     ]
    }
   ],
   "source": [
    "svm_obifs, confusion_matrix_list_svm_obifs = do_cv_svm(X_obifs_ss, y_obifs, 10, 5, params={'C' : [1, 10, 100, 1000], 'gamma' : ['auto', 'scale', 2e-2, 2e-3, 2e-4], 'kernel': ['rbf']}, n_jobs=-1)\n",
    "imprimir_estatisticas(svm_obifs)"
   ]
  },
  {
   "cell_type": "markdown",
   "metadata": {},
   "source": [
    "# Usando K-NN com os dados extraídos com o oBIFS"
   ]
  },
  {
   "cell_type": "code",
   "execution_count": 9,
   "metadata": {},
   "outputs": [
    {
     "data": {
      "application/vnd.jupyter.widget-view+json": {
       "model_id": "2ad32d7bb0b2486abb85db0c351c8e96",
       "version_major": 2,
       "version_minor": 0
      },
      "text/plain": [
       "Folds avaliados:   0%|          | 0/10 [00:00<?, ?it/s]"
      ]
     },
     "metadata": {},
     "output_type": "display_data"
    },
    {
     "name": "stdout",
     "output_type": "stream",
     "text": [
      "[array([[19,  1],\n",
      "       [ 2, 18]])] \n",
      "\n",
      "[array([[19,  1],\n",
      "       [ 2, 18]]), array([[19,  1],\n",
      "       [ 3, 17]])] \n",
      "\n",
      "[array([[19,  1],\n",
      "       [ 2, 18]]), array([[19,  1],\n",
      "       [ 3, 17]]), array([[19,  1],\n",
      "       [ 3, 17]])] \n",
      "\n",
      "[array([[19,  1],\n",
      "       [ 2, 18]]), array([[19,  1],\n",
      "       [ 3, 17]]), array([[19,  1],\n",
      "       [ 3, 17]]), array([[17,  3],\n",
      "       [ 1, 19]])] \n",
      "\n",
      "[array([[19,  1],\n",
      "       [ 2, 18]]), array([[19,  1],\n",
      "       [ 3, 17]]), array([[19,  1],\n",
      "       [ 3, 17]]), array([[17,  3],\n",
      "       [ 1, 19]]), array([[19,  1],\n",
      "       [ 0, 20]])] \n",
      "\n",
      "[array([[19,  1],\n",
      "       [ 2, 18]]), array([[19,  1],\n",
      "       [ 3, 17]]), array([[19,  1],\n",
      "       [ 3, 17]]), array([[17,  3],\n",
      "       [ 1, 19]]), array([[19,  1],\n",
      "       [ 0, 20]]), array([[16,  4],\n",
      "       [ 1, 19]])] \n",
      "\n",
      "[array([[19,  1],\n",
      "       [ 2, 18]]), array([[19,  1],\n",
      "       [ 3, 17]]), array([[19,  1],\n",
      "       [ 3, 17]]), array([[17,  3],\n",
      "       [ 1, 19]]), array([[19,  1],\n",
      "       [ 0, 20]]), array([[16,  4],\n",
      "       [ 1, 19]]), array([[20,  0],\n",
      "       [ 0, 20]])] \n",
      "\n",
      "[array([[19,  1],\n",
      "       [ 2, 18]]), array([[19,  1],\n",
      "       [ 3, 17]]), array([[19,  1],\n",
      "       [ 3, 17]]), array([[17,  3],\n",
      "       [ 1, 19]]), array([[19,  1],\n",
      "       [ 0, 20]]), array([[16,  4],\n",
      "       [ 1, 19]]), array([[20,  0],\n",
      "       [ 0, 20]]), array([[18,  2],\n",
      "       [ 0, 20]])] \n",
      "\n",
      "[array([[19,  1],\n",
      "       [ 2, 18]]), array([[19,  1],\n",
      "       [ 3, 17]]), array([[19,  1],\n",
      "       [ 3, 17]]), array([[17,  3],\n",
      "       [ 1, 19]]), array([[19,  1],\n",
      "       [ 0, 20]]), array([[16,  4],\n",
      "       [ 1, 19]]), array([[20,  0],\n",
      "       [ 0, 20]]), array([[18,  2],\n",
      "       [ 0, 20]]), array([[17,  3],\n",
      "       [ 0, 20]])] \n",
      "\n",
      "[array([[19,  1],\n",
      "       [ 2, 18]]), array([[19,  1],\n",
      "       [ 3, 17]]), array([[19,  1],\n",
      "       [ 3, 17]]), array([[17,  3],\n",
      "       [ 1, 19]]), array([[19,  1],\n",
      "       [ 0, 20]]), array([[16,  4],\n",
      "       [ 1, 19]]), array([[20,  0],\n",
      "       [ 0, 20]]), array([[18,  2],\n",
      "       [ 0, 20]]), array([[17,  3],\n",
      "       [ 0, 20]]), array([[20,  0],\n",
      "       [ 2, 18]])] \n",
      "\n",
      "Resultados: 0.93 +- 0.04, min: 0.88, max: 1.00\n"
     ]
    }
   ],
   "source": [
    "knn_obifs, confusion_matrix_list_knn_obifs = do_cv_knn(X_obifs_ss, y_obifs, 10, 5, params={'n_neighbors' : range(1,30,2)}, n_jobs=-1)\n",
    "imprimir_estatisticas(knn_obifs)"
   ]
  },
  {
   "cell_type": "markdown",
   "metadata": {},
   "source": [
    "# Usando Random Forest com os dados extraídos com o oBIFS"
   ]
  },
  {
   "cell_type": "code",
   "execution_count": 10,
   "metadata": {},
   "outputs": [
    {
     "data": {
      "application/vnd.jupyter.widget-view+json": {
       "model_id": "95e83b0035684c419f21948327e8e3f0",
       "version_major": 2,
       "version_minor": 0
      },
      "text/plain": [
       "Folds avaliados:   0%|          | 0/10 [00:00<?, ?it/s]"
      ]
     },
     "metadata": {},
     "output_type": "display_data"
    },
    {
     "name": "stdout",
     "output_type": "stream",
     "text": [
      "Resultados: 0.93 +- 0.04, min: 0.86, max: 1.00\n"
     ]
    }
   ],
   "source": [
    "random_forest_obifs = do_cv_random_forest(X_obifs_ss, y_obifs, 10, 5, params={'n_estimators' : [200, 500], 'max_features' : ['auto', 'sqrt', 'log2'], 'max_depth' : [4, 5, 6, 7, 8], 'criterion' : ['gini', 'entropy']}, n_jobs=-1)\n",
    "imprimir_estatisticas(random_forest_obifs)"
   ]
  },
  {
   "cell_type": "markdown",
   "metadata": {},
   "source": [
    "# Usando Decision Tree com os dados extraídos com o oBIFS"
   ]
  },
  {
   "cell_type": "code",
   "execution_count": 11,
   "metadata": {},
   "outputs": [
    {
     "data": {
      "application/vnd.jupyter.widget-view+json": {
       "model_id": "e5bd8f301f74489781a9f3d3abf794ac",
       "version_major": 2,
       "version_minor": 0
      },
      "text/plain": [
       "Folds avaliados:   0%|          | 0/10 [00:00<?, ?it/s]"
      ]
     },
     "metadata": {},
     "output_type": "display_data"
    },
    {
     "name": "stdout",
     "output_type": "stream",
     "text": [
      "Resultados: 0.85 +- 0.06, min: 0.75, max: 0.95\n"
     ]
    }
   ],
   "source": [
    "decision_tree_obifs = do_cv_decision_tree(X_obifs_ss, y_obifs, 10, 5, params={'max_features' : ['auto', 'sqrt', 'log2'], 'max_depth' : [4,5,6,7,8,9,10,11,12,15,20,30,40,50,70,90,120,150], 'criterion' : ['gini', 'entropy']}, n_jobs=-1)\n",
    "imprimir_estatisticas(decision_tree_obifs)"
   ]
  },
  {
   "cell_type": "markdown",
   "metadata": {},
   "source": [
    "# Usando MLP com os dados extraídos com o oBIFS"
   ]
  },
  {
   "cell_type": "code",
   "execution_count": 12,
   "metadata": {},
   "outputs": [
    {
     "data": {
      "application/vnd.jupyter.widget-view+json": {
       "model_id": "a277cfb10a9c449ba94dff7ff100e89f",
       "version_major": 2,
       "version_minor": 0
      },
      "text/plain": [
       "Folds avaliados:   0%|          | 0/10 [00:00<?, ?it/s]"
      ]
     },
     "metadata": {},
     "output_type": "display_data"
    },
    {
     "name": "stdout",
     "output_type": "stream",
     "text": [
      "Resultados: 0.85 +- 0.06, min: 0.75, max: 0.95\n"
     ]
    }
   ],
   "source": [
    "mlp_obifs = do_cv_mlp(X_obifs_ss, y_obifs, 10, 5, params={'random_state':[1], 'solver' : ['adam'], 'max_iter': [2000], 'alpha': [0.0001, 0.001, 0.005], 'hidden_layer_sizes': [(10), (10, 10), (10, 50), (100, 100, 100), (71, 71), (200, 200, 200, 200), (500, 500, 500, 500)]}, n_jobs=-1)\n",
    "imprimir_estatisticas(decision_tree_obifs)"
   ]
  },
  {
   "cell_type": "markdown",
   "metadata": {},
   "source": [
    "# -------------------------------------------------------------------------------------------------------------------------------------------------"
   ]
  },
  {
   "cell_type": "markdown",
   "metadata": {},
   "source": [
    "# Normalizando os dados extraídos com o BSIF"
   ]
  },
  {
   "cell_type": "code",
   "execution_count": 29,
   "metadata": {},
   "outputs": [
    {
     "data": {
      "text/plain": [
       "array([[-0.6078541 , -0.84615989, -0.43915426, ..., -0.02923353,\n",
       "        -0.8118459 , -0.60841152],\n",
       "       [ 0.15539165, -0.04054201, -0.06836461, ...,  0.84725135,\n",
       "         0.88436769,  0.2619902 ],\n",
       "       [-0.23971893,  0.56302929,  0.10233026, ...,  0.72010372,\n",
       "         1.09521428,  0.29420079],\n",
       "       ...,\n",
       "       [-0.68190428, -0.78023791, -0.85206912, ..., -0.6608029 ,\n",
       "        -0.62617503, -0.35001101],\n",
       "       [-1.15794113, -1.50452348, -1.32641658, ..., -1.20274362,\n",
       "        -1.12339534, -0.83531723],\n",
       "       [-1.08389095, -1.3803847 , -1.15396648, ..., -1.17043562,\n",
       "        -0.89681393, -0.77733817]])"
      ]
     },
     "execution_count": 29,
     "metadata": {},
     "output_type": "execute_result"
    }
   ],
   "source": [
    "ss_bsif = StandardScaler()\n",
    "ss_bsif.fit(X_bsif)\n",
    "X_bsif_ss = ss_bsif.transform(X_bsif)\n",
    "\n",
    "X_bsif_ss"
   ]
  },
  {
   "cell_type": "markdown",
   "metadata": {},
   "source": [
    "# Utilizando o SVM para classificação BSIF"
   ]
  },
  {
   "cell_type": "code",
   "execution_count": 30,
   "metadata": {},
   "outputs": [
    {
     "data": {
      "application/vnd.jupyter.widget-view+json": {
       "model_id": "e6925a0ca3db4e60a59dd8ed0edaa222",
       "version_major": 2,
       "version_minor": 0
      },
      "text/plain": [
       "Folds avaliados:   0%|          | 0/10 [00:00<?, ?it/s]"
      ]
     },
     "metadata": {},
     "output_type": "display_data"
    },
    {
     "name": "stdout",
     "output_type": "stream",
     "text": [
      "Resultados: 0.95 +- 0.02, min: 0.91, max: 0.98\n"
     ]
    }
   ],
   "source": [
    "svm_bsif, confusion_matrix_list_svm_bsif = do_cv_svm(X_bsif_ss, y_bsif, 10, 5, params={'C' : [1, 10, 100, 1000], 'gamma' : ['auto', 'scale', 2e-2, 2e-3, 2e-4], 'kernel': ['rbf']}, n_jobs=-1)\n",
    "imprimir_estatisticas(svm_bsif)"
   ]
  },
  {
   "cell_type": "markdown",
   "metadata": {},
   "source": [
    "# Usando K-NN com os dados extraídos com o BSIF"
   ]
  },
  {
   "cell_type": "code",
   "execution_count": 32,
   "metadata": {},
   "outputs": [
    {
     "data": {
      "application/vnd.jupyter.widget-view+json": {
       "model_id": "deaab7180f0c483b99e2dbb733d6f74c",
       "version_major": 2,
       "version_minor": 0
      },
      "text/plain": [
       "Folds avaliados:   0%|          | 0/10 [00:00<?, ?it/s]"
      ]
     },
     "metadata": {},
     "output_type": "display_data"
    },
    {
     "name": "stdout",
     "output_type": "stream",
     "text": [
      "[array([[20,  0],\n",
      "       [ 3, 17]])] \n",
      "\n",
      "[array([[20,  0],\n",
      "       [ 3, 17]]), array([[19,  1],\n",
      "       [ 1, 19]])] \n",
      "\n",
      "[array([[20,  0],\n",
      "       [ 3, 17]]), array([[19,  1],\n",
      "       [ 1, 19]]), array([[20,  0],\n",
      "       [ 3, 17]])] \n",
      "\n",
      "[array([[20,  0],\n",
      "       [ 3, 17]]), array([[19,  1],\n",
      "       [ 1, 19]]), array([[20,  0],\n",
      "       [ 3, 17]]), array([[18,  2],\n",
      "       [ 2, 18]])] \n",
      "\n",
      "[array([[20,  0],\n",
      "       [ 3, 17]]), array([[19,  1],\n",
      "       [ 1, 19]]), array([[20,  0],\n",
      "       [ 3, 17]]), array([[18,  2],\n",
      "       [ 2, 18]]), array([[18,  2],\n",
      "       [ 1, 19]])] \n",
      "\n",
      "[array([[20,  0],\n",
      "       [ 3, 17]]), array([[19,  1],\n",
      "       [ 1, 19]]), array([[20,  0],\n",
      "       [ 3, 17]]), array([[18,  2],\n",
      "       [ 2, 18]]), array([[18,  2],\n",
      "       [ 1, 19]]), array([[19,  1],\n",
      "       [ 2, 18]])] \n",
      "\n",
      "[array([[20,  0],\n",
      "       [ 3, 17]]), array([[19,  1],\n",
      "       [ 1, 19]]), array([[20,  0],\n",
      "       [ 3, 17]]), array([[18,  2],\n",
      "       [ 2, 18]]), array([[18,  2],\n",
      "       [ 1, 19]]), array([[19,  1],\n",
      "       [ 2, 18]]), array([[20,  0],\n",
      "       [ 0, 20]])] \n",
      "\n",
      "[array([[20,  0],\n",
      "       [ 3, 17]]), array([[19,  1],\n",
      "       [ 1, 19]]), array([[20,  0],\n",
      "       [ 3, 17]]), array([[18,  2],\n",
      "       [ 2, 18]]), array([[18,  2],\n",
      "       [ 1, 19]]), array([[19,  1],\n",
      "       [ 2, 18]]), array([[20,  0],\n",
      "       [ 0, 20]]), array([[17,  3],\n",
      "       [ 1, 19]])] \n",
      "\n",
      "[array([[20,  0],\n",
      "       [ 3, 17]]), array([[19,  1],\n",
      "       [ 1, 19]]), array([[20,  0],\n",
      "       [ 3, 17]]), array([[18,  2],\n",
      "       [ 2, 18]]), array([[18,  2],\n",
      "       [ 1, 19]]), array([[19,  1],\n",
      "       [ 2, 18]]), array([[20,  0],\n",
      "       [ 0, 20]]), array([[17,  3],\n",
      "       [ 1, 19]]), array([[18,  2],\n",
      "       [ 2, 18]])] \n",
      "\n",
      "[array([[20,  0],\n",
      "       [ 3, 17]]), array([[19,  1],\n",
      "       [ 1, 19]]), array([[20,  0],\n",
      "       [ 3, 17]]), array([[18,  2],\n",
      "       [ 2, 18]]), array([[18,  2],\n",
      "       [ 1, 19]]), array([[19,  1],\n",
      "       [ 2, 18]]), array([[20,  0],\n",
      "       [ 0, 20]]), array([[17,  3],\n",
      "       [ 1, 19]]), array([[18,  2],\n",
      "       [ 2, 18]]), array([[19,  1],\n",
      "       [ 2, 18]])] \n",
      "\n",
      "Resultados: 0.93 +- 0.03, min: 0.90, max: 1.00\n"
     ]
    }
   ],
   "source": [
    "knn_bsif, confusion_matrix_list_knn_bsif = do_cv_knn(X_bsif_ss, y_bsif, 10, 5, params={'n_neighbors' : range(1,30,2)}, n_jobs=-1)\n",
    "imprimir_estatisticas(knn_bsif)"
   ]
  },
  {
   "cell_type": "markdown",
   "metadata": {},
   "source": [
    "# Usando Random Forest com os dados extraídos com o BSIF"
   ]
  },
  {
   "cell_type": "code",
   "execution_count": 16,
   "metadata": {},
   "outputs": [
    {
     "data": {
      "application/vnd.jupyter.widget-view+json": {
       "model_id": "68dbafd2e85746eca692ba664fb07de8",
       "version_major": 2,
       "version_minor": 0
      },
      "text/plain": [
       "Folds avaliados:   0%|          | 0/10 [00:00<?, ?it/s]"
      ]
     },
     "metadata": {},
     "output_type": "display_data"
    },
    {
     "name": "stdout",
     "output_type": "stream",
     "text": [
      "Resultados: 0.92 +- 0.04, min: 0.84, max: 0.98\n"
     ]
    }
   ],
   "source": [
    "random_forest_bsif = do_cv_random_forest(X_bsif_ss, y_bsif, 10, 5, params={'n_estimators' : [200, 500], 'max_features' : ['auto', 'sqrt', 'log2'], 'max_depth' : [4, 5, 6, 7, 8], 'criterion' : ['gini', 'entropy']}, n_jobs=-1)\n",
    "imprimir_estatisticas(random_forest_bsif)"
   ]
  },
  {
   "cell_type": "markdown",
   "metadata": {},
   "source": [
    "# Usando Decision Tree com os dados extraídos com o BSIF"
   ]
  },
  {
   "cell_type": "code",
   "execution_count": 17,
   "metadata": {},
   "outputs": [
    {
     "data": {
      "application/vnd.jupyter.widget-view+json": {
       "model_id": "965cae8763094ee3926eea50aee3180a",
       "version_major": 2,
       "version_minor": 0
      },
      "text/plain": [
       "Folds avaliados:   0%|          | 0/10 [00:00<?, ?it/s]"
      ]
     },
     "metadata": {},
     "output_type": "display_data"
    },
    {
     "name": "stdout",
     "output_type": "stream",
     "text": [
      "Resultados: 0.85 +- 0.06, min: 0.73, max: 0.91\n"
     ]
    }
   ],
   "source": [
    "decision_tree_bsif = do_cv_decision_tree(X_bsif_ss, y_bsif, 10, 5, params={'max_features' : ['auto', 'sqrt', 'log2'], 'max_depth' : [4,5,6,7,8,9,10,11,12,15,20,30,40,50,70,90,120,150], 'criterion' : ['gini', 'entropy']}, n_jobs=-1)\n",
    "imprimir_estatisticas(decision_tree_bsif)"
   ]
  },
  {
   "cell_type": "markdown",
   "metadata": {},
   "source": [
    "# Usando MLP com os dados extraídos com o BSIF"
   ]
  },
  {
   "cell_type": "code",
   "execution_count": 18,
   "metadata": {},
   "outputs": [
    {
     "data": {
      "application/vnd.jupyter.widget-view+json": {
       "model_id": "4319caadba2641eaaa135be2f921c80a",
       "version_major": 2,
       "version_minor": 0
      },
      "text/plain": [
       "Folds avaliados:   0%|          | 0/10 [00:00<?, ?it/s]"
      ]
     },
     "metadata": {},
     "output_type": "display_data"
    },
    {
     "name": "stdout",
     "output_type": "stream",
     "text": [
      "Resultados: 0.94 +- 0.03, min: 0.90, max: 0.98\n"
     ]
    }
   ],
   "source": [
    "mlp_bsif = do_cv_mlp(X_bsif_ss, y_bsif, 10, 5, params={'random_state':[1], 'solver' : ['adam'], 'max_iter': [2000], 'alpha': [0.0001, 0.001, 0.005], 'hidden_layer_sizes': [(10), (10, 10), (10, 50), (100, 100, 100), (71, 71), (200, 200, 200, 200), (500, 500, 500, 500)]}, n_jobs=-1)\n",
    "imprimir_estatisticas(mlp_bsif)"
   ]
  },
  {
   "cell_type": "markdown",
   "metadata": {
    "tags": []
   },
   "source": [
    "### Análise Estatística\n",
    "\n",
    "A tabela abaixo resume os resultados obtidos nas classificações obtidas acima acima:\n",
    "\n",
    "\n",
    "#### oBIFs\n",
    "\n",
    "| Classificador | f1-score | Desvio Padrão |\n",
    "|----------------------|-------------------|---------------------------------------------|\n",
    "| SVM                  | 96\\%              | $\\pm 0.03$                         |\n",
    "| K-NN                 | 93\\%              | $\\pm 0.04$                         |\n",
    "| Random Forest        | 92\\%              | $\\pm 0.04$                         |\n",
    "| Decision Tree        | 84\\%              | $\\pm 0.05$                         |\n",
    "| MLP                  | 84\\%              | $\\pm 0.05$                         |\n",
    "\n",
    "\n",
    "O melhor resultado obtido foi com SVM ($0.96 \\pm 0.03$). O pior resultado foi obtido com MLP e *Decision Tree* ($0.84 \\pm 0.05$). Vamos verificar se a variação na média entre o melhor e o pior resultado é significativa usando o teste de hipótese nula. Se a variação entre o melhor resultado e o pior resultado não for significativa, a variação entre os outros pares de resultados provavelmente também não são significativas.\n",
    "\n",
    "A função ``rejeitar_hip_nula`` recebe 2 conjuntos de resultados (no nosso caso listas de resultados por fold) e retorna se a hipótese nula deve ser rejeitada considerando o limiar de corte ``alpha``. A função também retorna o p-valor."
   ]
  },
  {
   "cell_type": "code",
   "execution_count": 19,
   "metadata": {},
   "outputs": [],
   "source": [
    "from scipy.stats import ttest_ind_from_stats\n",
    "def rejeitar_hip_nula(amostra1, amostra2, alpha=0.05):\n",
    "    media_amostral1, desvio_padrao_amostral1, _, _ = calcular_estatisticas(amostra1)\n",
    "    media_amostral2, desvio_padrao_amostral2, _, _ = calcular_estatisticas(amostra2)\n",
    "    \n",
    "    _, pvalor = ttest_ind_from_stats(media_amostral1, desvio_padrao_amostral1, len(amostra1), media_amostral2, desvio_padrao_amostral2, len(amostra2))\n",
    "    return (pvalor <= alpha, pvalor)"
   ]
  },
  {
   "cell_type": "code",
   "execution_count": 20,
   "metadata": {},
   "outputs": [
    {
     "name": "stdout",
     "output_type": "stream",
     "text": [
      "oBIFs\n",
      "(False, 0.09738788681049555) \t---> SVM x K-NN\n",
      "(False, 0.06488878411374263) \t---> SVM x RF\n",
      "(True, 0.00012830885656377953) \t---> SVM x DT\n",
      "(False, 0.21948055270015648) \t---> SVM x MLP\n",
      "(False, 0.7852250802722316) \t---> K-NN x RF\n",
      "(True, 0.0025119957886741203) \t---> K-NN x DT\n",
      "(False, 0.7709307956962512) \t---> K-NN x MLP\n",
      "(True, 0.004568066593762389) \t---> RF x DT\n",
      "(False, 0.5929920384998146) \t---> RF x MLP\n",
      "(True, 0.0020426144898665326) \t---> DT x MLP\n",
      "\n",
      "BSIF\n",
      "(False, 0.0631399570094763) \t---> SVM x K-NN\n",
      "(False, 0.09286904292964746) \t---> SVM x RF\n",
      "(True, 4.864140077684585e-05) \t---> SVM x DT\n",
      "(False, 0.609572575040582) \t---> SVM x MLP\n",
      "(False, 0.8127972487334929) \t---> K-NN x RF\n",
      "(True, 0.0009066209939035334) \t---> K-NN x DT\n",
      "(False, 0.18926905373388492) \t---> K-NN x MLP\n",
      "(True, 0.00307926658314056) \t---> RF x DT\n",
      "(False, 0.2017657413350368) \t---> RF x MLP\n",
      "(True, 0.00012563648928266838) \t---> DT x MLP\n"
     ]
    }
   ],
   "source": [
    "obifs_results = {\n",
    "  \"SVM\": svm_obifs, \n",
    "  \"K-NN\": knn_obifs,\n",
    "  \"RF\": random_forest_obifs,\n",
    "  \"DT\": decision_tree_obifs,\n",
    "  \"MLP\": mlp_obifs\n",
    "}\n",
    "\n",
    "print(\"oBIFs\")\n",
    "for a,b in itertools.combinations(obifs_results, 2):\n",
    "  print(rejeitar_hip_nula(obifs_results[a], obifs_results[b]), \"\\t--->\", a, \"x\", b)\n",
    "\n",
    "\n",
    "bsif_results = {\n",
    "  \"SVM\": svm_bsif, \n",
    "  \"K-NN\": knn_bsif,\n",
    "  \"RF\": random_forest_bsif,\n",
    "  \"DT\": decision_tree_bsif,\n",
    "  \"MLP\": mlp_bsif\n",
    "}\n",
    "\n",
    "print(\"\\nBSIF\")\n",
    "for a,b in itertools.combinations(bsif_results, 2):\n",
    "  print(rejeitar_hip_nula(bsif_results[a], bsif_results[b]), \"\\t--->\", a, \"x\", b)"
   ]
  },
  {
   "cell_type": "markdown",
   "metadata": {},
   "source": [
    "Percebe-se pelo teste t de Student realizado acima (e baseado nos resultados obtidos de cada classificador) que a opção menos recomendável tanto para o BSIF quanto para o oBIFS é a Decision Tree. Já a respeito dos classificadores que mais valem a pena ser usados, pode-se afirmar que neste caso, o SVM e o K-NN são as opções mais adequadas por fornecerem bons resultados e serem menos custosos computacionalmente."
   ]
  },
  {
   "cell_type": "markdown",
   "metadata": {},
   "source": [
    "# Matrizes de Confusão"
   ]
  },
  {
   "cell_type": "code",
   "execution_count": 20,
   "metadata": {},
   "outputs": [],
   "source": [
    "def sum_confusion_matrix(confusion_matrix_list):\n",
    "    confusion_matrix_result = np.zeros_like(confusion_matrix_list[0])\n",
    "    \n",
    "    for i in confusion_matrix_list:\n",
    "        confusion_matrix_result += i\n",
    "    \n",
    "    return confusion_matrix_result"
   ]
  },
  {
   "cell_type": "code",
   "execution_count": 58,
   "metadata": {},
   "outputs": [
    {
     "data": {
      "text/plain": [
       "<Figure size 432x288 with 0 Axes>"
      ]
     },
     "metadata": {},
     "output_type": "display_data"
    },
    {
     "data": {
      "image/png": "[encoded data removed]",
      "text/plain": [
       "<Figure size 432x288 with 2 Axes>"
      ]
     },
     "metadata": {
      "needs_background": "light"
     },
     "output_type": "display_data"
    }
   ],
   "source": [
    "figure = plt.figure()\n",
    "display = ConfusionMatrixDisplay(confusion_matrix=sum_confusion_matrix(confusion_matrix_list_svm_obifs))\n",
    "display.plot()\n",
    "plt.savefig('mc_svm_obifs.png')"
   ]
  },
  {
   "cell_type": "code",
   "execution_count": 57,
   "metadata": {},
   "outputs": [
    {
     "data": {
      "text/plain": [
       "<Figure size 432x288 with 0 Axes>"
      ]
     },
     "metadata": {},
     "output_type": "display_data"
    },
    {
     "data": {
      "image/png": "[encoded data removed]",
      "text/plain": [
       "<Figure size 432x288 with 2 Axes>"
      ]
     },
     "metadata": {
      "needs_background": "light"
     },
     "output_type": "display_data"
    }
   ],
   "source": [
    "figure = plt.figure()\n",
    "display = ConfusionMatrixDisplay(confusion_matrix=sum_confusion_matrix(confusion_matrix_list_knn_obifs))\n",
    "display.plot()\n",
    "plt.savefig('mc_knn_obifs.png')"
   ]
  },
  {
   "cell_type": "code",
   "execution_count": 56,
   "metadata": {},
   "outputs": [
    {
     "data": {
      "text/plain": [
       "<Figure size 432x288 with 0 Axes>"
      ]
     },
     "metadata": {},
     "output_type": "display_data"
    },
    {
     "data": {
      "image/png": "[encoded data removed]",
      "text/plain": [
       "<Figure size 432x288 with 2 Axes>"
      ]
     },
     "metadata": {
      "needs_background": "light"
     },
     "output_type": "display_data"
    }
   ],
   "source": [
    "figure = plt.figure()\n",
    "display = ConfusionMatrixDisplay(confusion_matrix=sum_confusion_matrix(confusion_matrix_list_svm_bsif))\n",
    "display.plot()\n",
    "plt.savefig('mc_svm_bsif.png')"
   ]
  },
  {
   "cell_type": "code",
   "execution_count": 55,
   "metadata": {},
   "outputs": [
    {
     "data": {
      "text/plain": [
       "<Figure size 432x288 with 0 Axes>"
      ]
     },
     "metadata": {},
     "output_type": "display_data"
    },
    {
     "data": {
      "image/png": "[encoded data removed]",
      "text/plain": [
       "<Figure size 432x288 with 2 Axes>"
      ]
     },
     "metadata": {
      "needs_background": "light"
     },
     "output_type": "display_data"
    }
   ],
   "source": [
    "figure = plt.figure()\n",
    "display = ConfusionMatrixDisplay(confusion_matrix=sum_confusion_matrix(confusion_matrix_list_knn_bsif))\n",
    "display.plot()\n",
    "plt.savefig('mc_knn_bsif.png')"
   ]
  },
  {
   "cell_type": "code",
   "execution_count": null,
   "metadata": {},
   "outputs": [],
   "source": []
  }
 ],
 "metadata": {
  "interpreter": {
   "hash": "1d12b751c776a9d9bdd8f95aa666251103196531935483e481f8fc8875b97e63"
  },
  "kernelspec": {
   "display_name": "Python 3 (ipykernel)",
   "language": "python",
   "name": "python3"
  },
  "language_info": {
   "codemirror_mode": {
    "name": "ipython",
    "version": 3
   },
   "file_extension": ".py",
   "mimetype": "text/x-python",
   "name": "python",
   "nbconvert_exporter": "python",
   "pygments_lexer": "ipython3",
   "version": "3.9.7"
  }
 },
 "nbformat": 4,
 "nbformat_minor": 4
}
